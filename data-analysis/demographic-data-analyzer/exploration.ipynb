{
 "cells": [
  {
   "cell_type": "code",
   "execution_count": 5,
   "id": "e00d7073",
   "metadata": {},
   "outputs": [
    {
     "name": "stdout",
     "output_type": "stream",
     "text": [
      "python3 is /Users/martinquassowski/Library/Caches/pypoetry/virtualenvs/fcc-BcTXLzSa-py3.9/bin/python3\n"
     ]
    },
    {
     "ename": "ModuleNotFoundError",
     "evalue": "No module named 'pandas'",
     "output_type": "error",
     "traceback": [
      "\u001b[0;31m---------------------------------------------------------------------------\u001b[0m",
      "\u001b[0;31mModuleNotFoundError\u001b[0m                       Traceback (most recent call last)",
      "\u001b[0;32m<ipython-input-5-e81e5ab4b3a2>\u001b[0m in \u001b[0;36m<module>\u001b[0;34m\u001b[0m\n\u001b[1;32m      1\u001b[0m \u001b[0mget_ipython\u001b[0m\u001b[0;34m(\u001b[0m\u001b[0;34m)\u001b[0m\u001b[0;34m.\u001b[0m\u001b[0msystem\u001b[0m\u001b[0;34m(\u001b[0m\u001b[0;34m'type python3'\u001b[0m\u001b[0;34m)\u001b[0m\u001b[0;34m\u001b[0m\u001b[0;34m\u001b[0m\u001b[0m\n\u001b[1;32m      2\u001b[0m \u001b[0;34m\u001b[0m\u001b[0m\n\u001b[0;32m----> 3\u001b[0;31m \u001b[0;32mimport\u001b[0m \u001b[0mpandas\u001b[0m \u001b[0;32mas\u001b[0m \u001b[0mpd\u001b[0m\u001b[0;34m\u001b[0m\u001b[0;34m\u001b[0m\u001b[0m\n\u001b[0m\u001b[1;32m      4\u001b[0m \u001b[0;34m\u001b[0m\u001b[0m\n\u001b[1;32m      5\u001b[0m \u001b[0;34m\u001b[0m\u001b[0m\n",
      "\u001b[0;31mModuleNotFoundError\u001b[0m: No module named 'pandas'"
     ]
    }
   ],
   "source": [
    "!type python3\n",
    "\n",
    "import pandas as pd\n",
    "\n",
    "\n",
    "# Read data from file\n",
    "df = pd.read_csv(\"adult.data.csv\")"
   ]
  },
  {
   "cell_type": "code",
   "execution_count": null,
   "id": "9c8baa1c",
   "metadata": {},
   "outputs": [],
   "source": [
    "# How many of each race are represented in this dataset? This should be a Pandas series with race names as the index labels.\n",
    "race_count = df.groupby(\"race\").size().sort_values(ascending=False)\n",
    "\n",
    "# What is the average age of men?\n",
    "average_age_men = round(df[df[\"sex\"] == \"Male\"][\"age\"].mean(), 1)\n",
    "\n",
    "# What is the percentage of people who have a Bachelor's degree?\n",
    "percentage_bachelors = round(len(df[df[\"education\"] == \"Bachelors\"]) / len(df) * 100, 1)\n",
    "\n",
    "# What percentage of people with advanced education (`Bachelors`, `Masters`, or `Doctorate`) make more than 50K?\n",
    "# What percentage of people without advanced education make more than 50K?\n",
    "\n",
    "# with and without `Bachelors`, `Masters`, or `Doctorate`\n",
    "higher_education = df[df[\"education\"].isin([\"Bachelors\", \"Masters\", \"Doctorate\"])]\n",
    "lower_education = df[~df[\"education\"].isin([\"Bachelors\", \"Masters\", \"Doctorate\"])]\n",
    "\n",
    "# percentage with salary >50K\n",
    "higher_education_rich = round(\n",
    "    (higher_education[\"salary\"] == \">50K\").sum() / len(higher_education) * 100, 1\n",
    ")\n",
    "lower_education_rich = round(\n",
    "    (lower_education[\"salary\"] == \">50K\").sum() / len(lower_education) * 100, 1\n",
    ")\n",
    "\n",
    "# What is the minimum number of hours a person works per week (hours-per-week feature)?\n",
    "min_work_hours = df[\"hours-per-week\"].min()\n",
    "\n",
    "# What percentage of the people who work the minimum number of hours per week have a salary of >50K?\n",
    "num_min_workers = (df[\"hours-per-week\"] == min_work_hours).sum()\n",
    "num_min_workers_rich = (\n",
    "    (df[\"hours-per-week\"] == min_work_hours) & (df[\"salary\"] == \">50K\")\n",
    ").sum()\n",
    "\n",
    "rich_percentage = round(num_min_workers_rich / num_min_workers * 100, 1)\n",
    "\n",
    "# What country has the highest percentage of people that earn >50K?\n",
    "nc = df.groupby([\"native-country\", \"salary\"]).size()\n",
    "highest_earning_country = None\n",
    "highest_earning_country_percentage = None\n",
    "\n",
    "# Identify the most popular occupation for those who earn >50K in India.\n",
    "top_IN_occupation = (\n",
    "    df[(df[\"native-country\"] == \"India\") & (df[\"salary\"] == \">50K\")]\n",
    "    .groupby(\"occupation\")\n",
    "    .size()\n",
    "    .idxmax()\n",
    ")\n",
    "\n",
    "# DO NOT MODIFY BELOW THIS LINE\n",
    "\n",
    "if print_data:\n",
    "    print(\"Number of each race:\\n\", race_count)\n",
    "    print(\"Average age of men:\", average_age_men)\n",
    "    print(f\"Percentage with Bachelors degrees: {percentage_bachelors}%\")\n",
    "    print(f\"Percentage with higher education that earn >50K: {higher_education_rich}%\")\n",
    "    print(f\"Percentage without higher education that earn >50K: {lower_education_rich}%\")\n",
    "    print(f\"Min work time: {min_work_hours} hours/week\")\n",
    "    print(f\"Percentage of rich among those who work fewest hours: {rich_percentage}%\")\n",
    "    print(\"Country with highest percentage of rich:\", highest_earning_country)\n",
    "    print(\n",
    "        f\"Highest percentage of rich people in country: {highest_earning_country_percentage}%\"\n",
    "    )\n",
    "    print(\"Top occupations in India:\", top_IN_occupation)"
   ]
  }
 ],
 "metadata": {
  "kernelspec": {
   "display_name": "Python 3",
   "language": "python",
   "name": "python3"
  },
  "language_info": {
   "codemirror_mode": {
    "name": "ipython",
    "version": 3
   },
   "file_extension": ".py",
   "mimetype": "text/x-python",
   "name": "python",
   "nbconvert_exporter": "python",
   "pygments_lexer": "ipython3",
   "version": "3.9.4"
  }
 },
 "nbformat": 4,
 "nbformat_minor": 5
}
